{
 "cells": [
  {
   "cell_type": "code",
   "execution_count": 13,
   "metadata": {},
   "outputs": [
    {
     "name": "stdout",
     "output_type": "stream",
     "text": [
      "[5 7 2 1 6 9 3 4 8]\n",
      "[1, 2, 3, 4, 5, 6, 7, 8, 9]\n",
      "[False False False False False False False False False]\n"
     ]
    }
   ],
   "source": [
    "import matplotlib.pyplot as plt\n",
    "import matplotlib.animation as animation\n",
    "import numpy as np\n",
    "\n",
    "array = np.array([5,7,2,1,6,9,3,4,8]) \n",
    "array1=[]\n",
    "array1=array\n",
    "array=sorted(array)\n",
    "print(array1)\n",
    "print(array)\n",
    "print(array1==array)"
   ]
  },
  {
   "cell_type": "code",
   "execution_count": 14,
   "metadata": {},
   "outputs": [],
   "source": [
    "def bubble_sort(array):\n",
    "    swapped=True\n",
    "    while swapped:\n",
    "        for i in range(len(array)-1):\n",
    "            swapped = False\n",
    "            if array[i] > array[i+1]:\n",
    "                array[i], array[i+1] = array[i+1], array[i]\n",
    "                swapped = True\n",
    "    return array"
   ]
  },
  {
   "cell_type": "code",
   "execution_count": 15,
   "metadata": {},
   "outputs": [
    {
     "data": {
      "text/plain": [
       "[1, 2, 3, 4, 5, 6, 7, 8, 9]"
      ]
     },
     "execution_count": 15,
     "metadata": {},
     "output_type": "execute_result"
    }
   ],
   "source": [
    "bubble_sort(array)"
   ]
  },
  {
   "cell_type": "code",
   "execution_count": 16,
   "metadata": {},
   "outputs": [
    {
     "data": {
      "text/plain": [
       "<Figure size 640x480 with 0 Axes>"
      ]
     },
     "metadata": {},
     "output_type": "display_data"
    }
   ],
   "source": [
    "def update_fig(frame):\n",
    "    plt.cla()\n",
    "    if frame < len(frames):\n",
    "        plt.bar(range(len(frames[frame])), frames[frame], color='skyblue')\n",
    "    plt.title(\"Bubble Sort\")\n",
    "\n",
    "frames = list(bubble_sort(array.copy()))\n",
    "\n",
    "fig = plt.figure()\n",
    "ani = animation.FuncAnimation(fig, update_fig, frames=len(frames)+1, interval=500, repeat=False)\n",
    "plt.show()"
   ]
  },
  {
   "cell_type": "code",
   "execution_count": 4,
   "metadata": {},
   "outputs": [
    {
     "name": "stdout",
     "output_type": "stream",
     "text": [
      "True\n"
     ]
    }
   ],
   "source": [
    "arrray = [1]\n",
    "\n",
    "print(bool(arrray))"
   ]
  },
  {
   "cell_type": "code",
   "execution_count": 10,
   "metadata": {},
   "outputs": [
    {
     "name": "stdout",
     "output_type": "stream",
     "text": [
      "[1, 2, 3, 4, 5, 6, 7, 8, 9]\n"
     ]
    }
   ],
   "source": [
    "array = [5,7,2,1,6,9,3,4,8]\n",
    "\n",
    "def slection_sort(array):\n",
    "    sorted_array = []\n",
    "    while bool(array):\n",
    "        v_min = min(array)\n",
    "        sorted_array.append(v_min)\n",
    "        array.remove(v_min)\n",
    "    return sorted_array\n",
    "\n",
    "print(slection_sort(array))"
   ]
  },
  {
   "cell_type": "code",
   "execution_count": null,
   "metadata": {},
   "outputs": [],
   "source": []
  }
 ],
 "metadata": {
  "kernelspec": {
   "display_name": ".venv",
   "language": "python",
   "name": "python3"
  },
  "language_info": {
   "codemirror_mode": {
    "name": "ipython",
    "version": 3
   },
   "file_extension": ".py",
   "mimetype": "text/x-python",
   "name": "python",
   "nbconvert_exporter": "python",
   "pygments_lexer": "ipython3",
   "version": "3.12.1"
  }
 },
 "nbformat": 4,
 "nbformat_minor": 2
}
